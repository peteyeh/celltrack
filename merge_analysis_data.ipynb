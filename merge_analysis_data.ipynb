{
 "cells": [
  {
   "cell_type": "code",
   "execution_count": 1,
   "id": "ce0c95da",
   "metadata": {},
   "outputs": [],
   "source": [
    "import os\n",
    "import pandas as pd\n",
    "import re\n",
    "\n",
    "data_dirs = [\n",
    "    \"saved_output/analysis_data/plate1\",\n",
    "    \"saved_output/analysis_data/plate2\",\n",
    "    \"saved_output/analysis_data/plate3\",\n",
    "    \"saved_output/analysis_data/plate4\",\n",
    "    \"saved_output/analysis_data/plate5\",\n",
    "    \"saved_output/analysis_data/plate6\",\n",
    "    \"saved_output/analysis_data/plate7\",\n",
    "    \"saved_output/analysis_data/plate8\",\n",
    "    \"saved_output/analysis_data/plate9\",\n",
    "    \"saved_output/analysis_data/plate10\",\n",
    "    \"saved_output/analysis_data/plate11\",\n",
    "    \"saved_output/analysis_data/plate12\"\n",
    "]\n",
    "\n",
    "def parse_stack_name(name):\n",
    "    r = re.search(\"(1?[0-9])([A-H])(1?[0-9])\", name)\n",
    "    return r.group(1), r.group(2), r.group(3)"
   ]
  },
  {
   "cell_type": "code",
   "execution_count": 2,
   "id": "adb5d6e9",
   "metadata": {},
   "outputs": [],
   "source": [
    "merged_df = None\n",
    "for data_dir in data_dirs:\n",
    "    for image_stack in os.listdir(data_dir):\n",
    "        # hacky check to ignore Mac temp files\n",
    "        if image_stack[0] == \".\":\n",
    "            continue\n",
    "        df = pd.read_csv(os.path.join(data_dir, image_stack, \"analysis.csv\"))\n",
    "        plate, row, col = parse_stack_name(image_stack)\n",
    "        df['plate'] = plate\n",
    "        df['row'] = row\n",
    "        df['col'] = col\n",
    "        df = df.reset_index().rename(columns={\"index\": \"frame\"}).set_index([\"plate\", \"row\", \"col\", \"frame\"])\n",
    "        if merged_df is None:\n",
    "            merged_df = df\n",
    "        else:\n",
    "            merged_df = merged_df.append(df)\n",
    "\n",
    "merged_df.sort_index().to_csv(\"merged_data.csv\")"
   ]
  }
 ],
 "metadata": {
  "kernelspec": {
   "display_name": "Python 3 (ipykernel)",
   "language": "python",
   "name": "python3"
  },
  "language_info": {
   "codemirror_mode": {
    "name": "ipython",
    "version": 3
   },
   "file_extension": ".py",
   "mimetype": "text/x-python",
   "name": "python",
   "nbconvert_exporter": "python",
   "pygments_lexer": "ipython3",
   "version": "3.7.11"
  }
 },
 "nbformat": 4,
 "nbformat_minor": 5
}
